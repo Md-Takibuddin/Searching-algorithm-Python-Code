{
 "cells": [
  {
   "cell_type": "markdown",
   "metadata": {
    "id": "-1O3g3SYNQPX"
   },
   "source": [
    "![map.JPG](attachment:map.JPG)"
   ]
  },
  {
   "cell_type": "code",
   "execution_count": 7,
   "metadata": {
    "executionInfo": {
     "elapsed": 28,
     "status": "ok",
     "timestamp": 1644914348124,
     "user": {
      "displayName": "Ashraf Uddin",
      "photoUrl": "https://lh3.googleusercontent.com/a-/AOh14GjBdAa8YVVeKPAj-6WRIHqgGMOom16hPYcrG5tkEw=s64",
      "userId": "01747740824393644374"
     },
     "user_tz": -360
    },
    "id": "4aNhyGT0NQPv"
   },
   "outputs": [],
   "source": [
    "romanian_map = {\n",
    "    'Arad': {'Sibiu':140, 'Zerind':75, 'Timisoara':118},\n",
    "    'Zerind': {'Arad':75, 'Oradea':71},\n",
    "    'Oradea': {'Zerind':71, 'Sibiu': 151},\n",
    "    'Sibiu': {'Arad':140, 'Oradea':151, 'Fagaras':99, 'Rimnicu':80},\n",
    "    'Timisoara': {'Arad': 118, 'Lugoj':111},\n",
    "    'Lugoj': {'Timisoara':111, 'Mehadia':70},\n",
    "    'Mehadia': {'Lugoj': 70, 'Drobeta':75},\n",
    "    'Drobeta': {'Mehadia':75, 'Craiova':120},\n",
    "    'Craiova': {'Drobeta': 120, 'Rimnicu': 146, 'Pitesti': 138},\n",
    "    'Rimnicu': {'Sibiu': 80, 'Craiova': 146, 'Pitesti': 97},\n",
    "    'Fagaras': {'Sibiu':99, 'Bucharest':211},\n",
    "    'Pitesti': {'Rimnicu': 97, 'Craiova':138, 'Bucharest':101},\n",
    "    'Bucharest': {'Fagaras':211, 'Pitesti': 101, 'Giurgiu':90, 'Urziceni':85},\n",
    "    'Giurgiu': {'Bucharest': 90},\n",
    "    'Urziceni': {'Bucharest': 85, 'Vaslui':142, 'Hirsova':98},\n",
    "    'Hirsova': {'Urziceni':98, 'Eforie':86},\n",
    "    'Eforie': {'Hirsova':86},\n",
    "    'Vaslui': {'Iasi': 92, 'Urziceni':142},\n",
    "    'Iasi': {'Vaslui':92, 'Neamt': 87},\n",
    "    'Neamt': {'Iasi':87}\n",
    "}"
   ]
  },
  {
   "cell_type": "code",
   "execution_count": 8,
   "metadata": {
    "colab": {
     "base_uri": "https://localhost:8080/"
    },
    "executionInfo": {
     "elapsed": 24,
     "status": "ok",
     "timestamp": 1644914348126,
     "user": {
      "displayName": "Ashraf Uddin",
      "photoUrl": "https://lh3.googleusercontent.com/a-/AOh14GjBdAa8YVVeKPAj-6WRIHqgGMOom16hPYcrG5tkEw=s64",
      "userId": "01747740824393644374"
     },
     "user_tz": -360
    },
    "id": "h-iGsBUPNQQg",
    "outputId": "7b8f01b5-eadb-49b2-f960-afd2482ef3aa"
   },
   "outputs": [
    {
     "data": {
      "text/plain": [
       "{'Sibiu': 140, 'Zerind': 75, 'Timisoara': 118}"
      ]
     },
     "execution_count": 8,
     "metadata": {},
     "output_type": "execute_result"
    }
   ],
   "source": [
    "romanian_map['Arad']"
   ]
  },
  {
   "cell_type": "code",
   "execution_count": 9,
   "metadata": {
    "colab": {
     "base_uri": "https://localhost:8080/"
    },
    "executionInfo": {
     "elapsed": 463,
     "status": "ok",
     "timestamp": 1644914370939,
     "user": {
      "displayName": "Ashraf Uddin",
      "photoUrl": "https://lh3.googleusercontent.com/a-/AOh14GjBdAa8YVVeKPAj-6WRIHqgGMOom16hPYcrG5tkEw=s64",
      "userId": "01747740824393644374"
     },
     "user_tz": -360
    },
    "id": "x8Z9GdMvNQQj",
    "outputId": "d4c8293f-9325-4a3c-c016-eb1dcfdfe6fa"
   },
   "outputs": [
    {
     "data": {
      "text/plain": [
       "['Sibiu', 'Zerind', 'Timisoara']"
      ]
     },
     "execution_count": 9,
     "metadata": {},
     "output_type": "execute_result"
    }
   ],
   "source": [
    "list(romanian_map['Arad'].keys())"
   ]
  },
  {
   "cell_type": "code",
   "execution_count": 10,
   "metadata": {
    "colab": {
     "base_uri": "https://localhost:8080/"
    },
    "executionInfo": {
     "elapsed": 450,
     "status": "ok",
     "timestamp": 1644914397557,
     "user": {
      "displayName": "Ashraf Uddin",
      "photoUrl": "https://lh3.googleusercontent.com/a-/AOh14GjBdAa8YVVeKPAj-6WRIHqgGMOom16hPYcrG5tkEw=s64",
      "userId": "01747740824393644374"
     },
     "user_tz": -360
    },
    "id": "wJ7uyya9NQQl",
    "outputId": "a1a46b0d-1bb1-45db-a283-cf3b9bf5c04a"
   },
   "outputs": [
    {
     "data": {
      "text/plain": [
       "75"
      ]
     },
     "execution_count": 10,
     "metadata": {},
     "output_type": "execute_result"
    }
   ],
   "source": [
    "romanian_map['Arad']['Zerind']"
   ]
  },
  {
   "cell_type": "code",
   "execution_count": 11,
   "metadata": {
    "colab": {
     "base_uri": "https://localhost:8080/"
    },
    "executionInfo": {
     "elapsed": 540,
     "status": "ok",
     "timestamp": 1644914401307,
     "user": {
      "displayName": "Ashraf Uddin",
      "photoUrl": "https://lh3.googleusercontent.com/a-/AOh14GjBdAa8YVVeKPAj-6WRIHqgGMOom16hPYcrG5tkEw=s64",
      "userId": "01747740824393644374"
     },
     "user_tz": -360
    },
    "id": "ybqAMUbpPnOr",
    "outputId": "48b4173f-8778-4fbe-c1e7-129cd734360d"
   },
   "outputs": [
    {
     "data": {
      "text/plain": [
       "75"
      ]
     },
     "execution_count": 11,
     "metadata": {},
     "output_type": "execute_result"
    }
   ],
   "source": [
    "romanian_map['Zerind']['Arad']"
   ]
  },
  {
   "cell_type": "code",
   "execution_count": 12,
   "metadata": {
    "colab": {
     "base_uri": "https://localhost:8080/"
    },
    "executionInfo": {
     "elapsed": 615,
     "status": "ok",
     "timestamp": 1644914412258,
     "user": {
      "displayName": "Ashraf Uddin",
      "photoUrl": "https://lh3.googleusercontent.com/a-/AOh14GjBdAa8YVVeKPAj-6WRIHqgGMOom16hPYcrG5tkEw=s64",
      "userId": "01747740824393644374"
     },
     "user_tz": -360
    },
    "id": "cV_e6zwENQQr",
    "outputId": "47f85588-33db-4073-a122-12ddb80e80a6"
   },
   "outputs": [
    {
     "data": {
      "text/plain": [
       "['Arad',\n",
       " 'Zerind',\n",
       " 'Oradea',\n",
       " 'Sibiu',\n",
       " 'Timisoara',\n",
       " 'Lugoj',\n",
       " 'Mehadia',\n",
       " 'Drobeta',\n",
       " 'Craiova',\n",
       " 'Rimnicu',\n",
       " 'Fagaras',\n",
       " 'Pitesti',\n",
       " 'Bucharest',\n",
       " 'Giurgiu',\n",
       " 'Urziceni',\n",
       " 'Hirsova',\n",
       " 'Eforie',\n",
       " 'Vaslui',\n",
       " 'Iasi',\n",
       " 'Neamt']"
      ]
     },
     "execution_count": 12,
     "metadata": {},
     "output_type": "execute_result"
    }
   ],
   "source": [
    "list(romanian_map.keys())"
   ]
  },
  {
   "cell_type": "markdown",
   "metadata": {
    "id": "rUSyZS74NQQs"
   },
   "source": [
    "# BFS"
   ]
  },
  {
   "cell_type": "code",
   "execution_count": 13,
   "metadata": {
    "executionInfo": {
     "elapsed": 513,
     "status": "ok",
     "timestamp": 1644914974761,
     "user": {
      "displayName": "Ashraf Uddin",
      "photoUrl": "https://lh3.googleusercontent.com/a-/AOh14GjBdAa8YVVeKPAj-6WRIHqgGMOom16hPYcrG5tkEw=s64",
      "userId": "01747740824393644374"
     },
     "user_tz": -360
    },
    "id": "L3961YcCNQQu"
   },
   "outputs": [],
   "source": [
    "def bfs(startingNode, destinationNode):\n",
    "    reached = [] # to store reached (generated) nodes\n",
    "    expand_sequence = [] # to store the order of nodes expanded\n",
    "    frontier = []\n",
    "\n",
    "    snode = {'City':startingNode,'Path cost':0, 'Path':[startingNode]}\n",
    "    frontier.append(snode)    # insert the starting node\n",
    "    reached.append(startingNode)\n",
    "    \n",
    "    while len(frontier) > 0:\n",
    "        unode = frontier.pop(0)     # selceting the node to expand\n",
    "        u = unode['City']\n",
    "        expand_sequence.append(u)\n",
    "        \n",
    "        # expand u\n",
    "        for v in romanian_map[u].keys():\n",
    "            if v not in reached: # process if v is not reached (generated) yet                \n",
    "                cost = unode['Path cost'] + romanian_map[u][v] \n",
    "                path =  unode['Path']+ [v]\n",
    "                vnode = {'City': v,'Path cost': cost,'Path': path}\n",
    "                frontier.append(vnode)# store the new child node in the frontier\n",
    "                reached.append(v)\n",
    "                # goal test\n",
    "                if v == destinationNode:\n",
    "                    #print(vnode)\n",
    "                    print(expand_sequence)\n",
    "                    return vnode # breaking from while\n",
    "    print('Failed')   "
   ]
  },
  {
   "cell_type": "code",
   "execution_count": 14,
   "metadata": {
    "colab": {
     "base_uri": "https://localhost:8080/"
    },
    "executionInfo": {
     "elapsed": 1004,
     "status": "ok",
     "timestamp": 1644915356820,
     "user": {
      "displayName": "Ashraf Uddin",
      "photoUrl": "https://lh3.googleusercontent.com/a-/AOh14GjBdAa8YVVeKPAj-6WRIHqgGMOom16hPYcrG5tkEw=s64",
      "userId": "01747740824393644374"
     },
     "user_tz": -360
    },
    "id": "OX3FUTH9NQQy",
    "outputId": "73795a97-0df5-4c16-ec21-720f93b0a159"
   },
   "outputs": [
    {
     "name": "stdout",
     "output_type": "stream",
     "text": [
      "['Arad', 'Sibiu', 'Zerind', 'Timisoara', 'Oradea', 'Fagaras', 'Rimnicu', 'Lugoj', 'Bucharest', 'Craiova', 'Pitesti', 'Mehadia', 'Giurgiu', 'Urziceni', 'Drobeta', 'Vaslui']\n"
     ]
    },
    {
     "data": {
      "text/plain": [
       "{'City': 'Iasi',\n",
       " 'Path cost': 769,\n",
       " 'Path': ['Arad',\n",
       "  'Sibiu',\n",
       "  'Fagaras',\n",
       "  'Bucharest',\n",
       "  'Urziceni',\n",
       "  'Vaslui',\n",
       "  'Iasi']}"
      ]
     },
     "execution_count": 14,
     "metadata": {},
     "output_type": "execute_result"
    }
   ],
   "source": [
    "bfs('Arad', 'Iasi') # change the soure and destination"
   ]
  },
  {
   "cell_type": "markdown",
   "metadata": {
    "id": "MA8md-K-NQQ1"
   },
   "source": [
    "# DFS\n",
    "Implement DFS using stack,\n",
    "Implement stack using list (append and pop) "
   ]
  },
  {
   "cell_type": "code",
   "execution_count": 16,
   "metadata": {
    "id": "IMjLNkxdNQQ2"
   },
   "outputs": [
    {
     "name": "stdout",
     "output_type": "stream",
     "text": [
      "['Arad', 'Timisoara', 'Lugoj', 'Mehadia', 'Drobeta', 'Craiova', 'Pitesti', 'Bucharest', 'Urziceni', 'Vaslui', 'Iasi', 'Neamt'] 1139\n",
      "['Arad', 'Timisoara', 'Lugoj', 'Mehadia', 'Drobeta', 'Craiova', 'Pitesti', 'Rimnicu', 'Sibiu', 'Fagaras', 'Bucharest', 'Urziceni', 'Vaslui', 'Iasi', 'Neamt'] 1525\n",
      "['Arad', 'Timisoara', 'Lugoj', 'Mehadia', 'Drobeta', 'Craiova', 'Rimnicu', 'Sibiu', 'Fagaras', 'Bucharest', 'Urziceni', 'Vaslui', 'Iasi', 'Neamt'] 1436\n",
      "['Arad', 'Timisoara', 'Lugoj', 'Mehadia', 'Drobeta', 'Craiova', 'Rimnicu', 'Pitesti', 'Bucharest', 'Urziceni', 'Vaslui', 'Iasi', 'Neamt'] 1244\n",
      "['Arad', 'Sibiu', 'Fagaras', 'Bucharest', 'Urziceni', 'Vaslui', 'Iasi', 'Neamt'] 856\n",
      "['Arad', 'Sibiu', 'Rimnicu', 'Pitesti', 'Bucharest', 'Urziceni', 'Vaslui', 'Iasi', 'Neamt'] 824\n",
      "['Arad', 'Sibiu', 'Rimnicu', 'Craiova', 'Pitesti', 'Bucharest', 'Urziceni', 'Vaslui', 'Iasi', 'Neamt'] 1011\n",
      "['Arad', 'Zerind', 'Oradea', 'Sibiu', 'Fagaras', 'Bucharest', 'Urziceni', 'Vaslui', 'Iasi', 'Neamt'] 1013\n",
      "['Arad', 'Zerind', 'Oradea', 'Sibiu', 'Rimnicu', 'Pitesti', 'Bucharest', 'Urziceni', 'Vaslui', 'Iasi', 'Neamt'] 981\n",
      "['Arad', 'Zerind', 'Oradea', 'Sibiu', 'Rimnicu', 'Craiova', 'Pitesti', 'Bucharest', 'Urziceni', 'Vaslui', 'Iasi', 'Neamt'] 1168\n"
     ]
    }
   ],
   "source": [
    "def paths(romanian_map, start, end):  # Function to find paths\n",
    "    stack = [(start, [start])]        # stack\n",
    "    while stack:\n",
    "        (i, path) = stack.pop()\n",
    "        for next in set(romanian_map[i]) - set(path):\n",
    "            if next == end:\n",
    "                yield path + [next]\n",
    "            else:\n",
    "                stack.append((next, path + [next]))\n",
    "\n",
    "def weights(romanian_map, path):  # Function to find weights\n",
    "    value = 0\n",
    "    node = romanian_map[path[0]]\n",
    "    for item in path[1:]:\n",
    "        value += node[item]\n",
    "        node = romanian_map[item] \n",
    "    return value\n",
    "\n",
    "\n",
    "for path in paths(romanian_map, 'Arad', 'Neamt'): \n",
    "    print(path, weights(romanian_map, path)) "
   ]
  }
 ],
 "metadata": {
  "colab": {
   "name": "Week 04 search (BFS, DFS).ipynb",
   "provenance": []
  },
  "interpreter": {
   "hash": "5fd6d7683cec534ddc64835cfad3c8fdf3415285ed9af6514640f757f2b2ee09"
  },
  "kernelspec": {
   "display_name": "Python 3.9.7 ('base')",
   "name": "python3"
  },
  "language_info": {
   "codemirror_mode": {
    "name": "ipython",
    "version": 3
   },
   "file_extension": ".py",
   "mimetype": "text/x-python",
   "name": "python",
   "nbconvert_exporter": "python",
   "pygments_lexer": "ipython3",
   "version": "3.9.7"
  }
 },
 "nbformat": 4,
 "nbformat_minor": 1
}
