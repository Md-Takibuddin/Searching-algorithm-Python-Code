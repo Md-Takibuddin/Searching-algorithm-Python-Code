{
 "cells": [
  {
   "cell_type": "markdown",
   "metadata": {
    "id": "d-DKmj30luYm"
   },
   "source": [
    "![map.JPG](attachment:map.JPG)"
   ]
  },
  {
   "cell_type": "code",
   "execution_count": 2,
   "metadata": {
    "executionInfo": {
     "elapsed": 20,
     "status": "ok",
     "timestamp": 1647325855099,
     "user": {
      "displayName": "Ashraf Uddin",
      "photoUrl": "https://lh3.googleusercontent.com/a-/AOh14GjBdAa8YVVeKPAj-6WRIHqgGMOom16hPYcrG5tkEw=s64",
      "userId": "01747740824393644374"
     },
     "user_tz": -360
    },
    "id": "goGfzJW8luYu"
   },
   "outputs": [],
   "source": [
    "rmap = {\n",
    "    'Arad': {'Sibiu':140, 'Zerind':75, 'Timisoara':118},\n",
    "    'Zerind': {'Arad':75, 'Oradea':71},\n",
    "    'Oradea': {'Zerind':71, 'Sibiu': 151},\n",
    "    'Sibiu': {'Arad':140, 'Oradea':151, 'Fagaras':99, 'Rimnicu':80},\n",
    "    'Timisoara': {'Arad': 118, 'Lugoj':111},\n",
    "    'Lugoj': {'Timisoara':111, 'Mehadia':70},\n",
    "    'Mehadia': {'Lugoj': 70, 'Drobeta':75},\n",
    "    'Drobeta': {'Mehadia':75, 'Craiova':120},\n",
    "    'Craiova': {'Drobeta': 120, 'Rimnicu': 146, 'Pitesti': 138},\n",
    "    'Rimnicu': {'Sibiu': 80, 'Craiova': 146, 'Pitesti': 97},\n",
    "    'Fagaras': {'Sibiu':99, 'Bucharest':211},\n",
    "    'Pitesti': {'Rimnicu': 97, 'Craiova':138, 'Bucharest':101},\n",
    "    'Bucharest': {'Fagaras':211, 'Pitesti': 101, 'Giurgiu':90, 'Urziceni':85},\n",
    "    'Giurgiu': {'Bucharest': 90},\n",
    "    'Urziceni': {'Bucharest': 85, 'Vaslui':142, 'Hirsova':98},\n",
    "    'Hirsova': {'Urziceni':98, 'Eforie':86},\n",
    "    'Eforie': {'Hirsova':86},\n",
    "    'Vaslui': {'Iasi': 92, 'Urziceni':142},\n",
    "    'Iasi': {'Vaslui':92, 'Neamt': 87},\n",
    "    'Neamt': {'Iasi':87}\n",
    "}"
   ]
  },
  {
   "cell_type": "markdown",
   "metadata": {
    "id": "KRCzk7hwluYx"
   },
   "source": [
    "# Uniform Cost Search"
   ]
  },
  {
   "cell_type": "code",
   "execution_count": 30,
   "metadata": {
    "executionInfo": {
     "elapsed": 471,
     "status": "ok",
     "timestamp": 1647328068589,
     "user": {
      "displayName": "Ashraf Uddin",
      "photoUrl": "https://lh3.googleusercontent.com/a-/AOh14GjBdAa8YVVeKPAj-6WRIHqgGMOom16hPYcrG5tkEw=s64",
      "userId": "01747740824393644374"
     },
     "user_tz": -360
    },
    "id": "Caz8BtEWluYy"
   },
   "outputs": [],
   "source": [
    "from queue import PriorityQueue\n",
    "\n",
    "\n",
    "def ucs(snode, dnode):\n",
    "    expanded = [] # to store expanded nodes\n",
    "    frontier = PriorityQueue()\n",
    "\n",
    "    node = (0,snode,[snode]) #(g(n) = path cost, city name, path)\n",
    "    frontier.put(node)\n",
    "    \n",
    "    while not frontier.empty():\n",
    "        node = frontier.get() # select a node for expansion\n",
    "        u = node[1] \n",
    "        print()\n",
    "        print(u+ \" selected. Cost: \"+ str(node[0]))\n",
    "        if u == dnode:# goal test            \n",
    "            print(\"*** GOAL TEST SATISFIED ***\")\n",
    "            print()\n",
    "            return node # path\n",
    "        expanded.append(u)\n",
    "        print(u+\" expanding...\")\n",
    "        for v in rmap[u].keys():#expanding            \n",
    "            if v not in expanded:\n",
    "                g = node[0] + rmap[u][v]\n",
    "                path = node[2] + [v]\n",
    "                frontier.put((g,v,path))\n",
    "                print(u + \"->\"+v + \", Path: \"+ str(path) + \", Cost:\"+ str(g))\n",
    "        print(frontier.queue)\n",
    "    print('Failed')"
   ]
  },
  {
   "cell_type": "code",
   "execution_count": 31,
   "metadata": {
    "colab": {
     "base_uri": "https://localhost:8080/"
    },
    "executionInfo": {
     "elapsed": 441,
     "status": "ok",
     "timestamp": 1647328071284,
     "user": {
      "displayName": "Ashraf Uddin",
      "photoUrl": "https://lh3.googleusercontent.com/a-/AOh14GjBdAa8YVVeKPAj-6WRIHqgGMOom16hPYcrG5tkEw=s64",
      "userId": "01747740824393644374"
     },
     "user_tz": -360
    },
    "id": "IwXpwVbKluYz",
    "outputId": "1e631ba3-598a-4e38-f07e-3ab64a3a22ac"
   },
   "outputs": [
    {
     "name": "stdout",
     "output_type": "stream",
     "text": [
      "\n",
      "Arad selected. Cost: 0\n",
      "Arad expanding...\n",
      "Arad->Sibiu, Path: ['Arad', 'Sibiu'], Cost:140\n",
      "Arad->Zerind, Path: ['Arad', 'Zerind'], Cost:75\n",
      "Arad->Timisoara, Path: ['Arad', 'Timisoara'], Cost:118\n",
      "[(75, 'Zerind', ['Arad', 'Zerind']), (140, 'Sibiu', ['Arad', 'Sibiu']), (118, 'Timisoara', ['Arad', 'Timisoara'])]\n",
      "\n",
      "Zerind selected. Cost: 75\n",
      "Zerind expanding...\n",
      "Zerind->Oradea, Path: ['Arad', 'Zerind', 'Oradea'], Cost:146\n",
      "[(118, 'Timisoara', ['Arad', 'Timisoara']), (140, 'Sibiu', ['Arad', 'Sibiu']), (146, 'Oradea', ['Arad', 'Zerind', 'Oradea'])]\n",
      "\n",
      "Timisoara selected. Cost: 118\n",
      "Timisoara expanding...\n",
      "Timisoara->Lugoj, Path: ['Arad', 'Timisoara', 'Lugoj'], Cost:229\n",
      "[(140, 'Sibiu', ['Arad', 'Sibiu']), (146, 'Oradea', ['Arad', 'Zerind', 'Oradea']), (229, 'Lugoj', ['Arad', 'Timisoara', 'Lugoj'])]\n",
      "\n",
      "Sibiu selected. Cost: 140\n",
      "Sibiu expanding...\n",
      "Sibiu->Oradea, Path: ['Arad', 'Sibiu', 'Oradea'], Cost:291\n",
      "Sibiu->Fagaras, Path: ['Arad', 'Sibiu', 'Fagaras'], Cost:239\n",
      "Sibiu->Rimnicu, Path: ['Arad', 'Sibiu', 'Rimnicu'], Cost:220\n",
      "[(146, 'Oradea', ['Arad', 'Zerind', 'Oradea']), (220, 'Rimnicu', ['Arad', 'Sibiu', 'Rimnicu']), (291, 'Oradea', ['Arad', 'Sibiu', 'Oradea']), (239, 'Fagaras', ['Arad', 'Sibiu', 'Fagaras']), (229, 'Lugoj', ['Arad', 'Timisoara', 'Lugoj'])]\n",
      "\n",
      "Oradea selected. Cost: 146\n",
      "Oradea expanding...\n",
      "[(220, 'Rimnicu', ['Arad', 'Sibiu', 'Rimnicu']), (229, 'Lugoj', ['Arad', 'Timisoara', 'Lugoj']), (291, 'Oradea', ['Arad', 'Sibiu', 'Oradea']), (239, 'Fagaras', ['Arad', 'Sibiu', 'Fagaras'])]\n",
      "\n",
      "Rimnicu selected. Cost: 220\n",
      "Rimnicu expanding...\n",
      "Rimnicu->Craiova, Path: ['Arad', 'Sibiu', 'Rimnicu', 'Craiova'], Cost:366\n",
      "Rimnicu->Pitesti, Path: ['Arad', 'Sibiu', 'Rimnicu', 'Pitesti'], Cost:317\n",
      "[(229, 'Lugoj', ['Arad', 'Timisoara', 'Lugoj']), (239, 'Fagaras', ['Arad', 'Sibiu', 'Fagaras']), (291, 'Oradea', ['Arad', 'Sibiu', 'Oradea']), (366, 'Craiova', ['Arad', 'Sibiu', 'Rimnicu', 'Craiova']), (317, 'Pitesti', ['Arad', 'Sibiu', 'Rimnicu', 'Pitesti'])]\n",
      "\n",
      "Lugoj selected. Cost: 229\n",
      "Lugoj expanding...\n",
      "Lugoj->Mehadia, Path: ['Arad', 'Timisoara', 'Lugoj', 'Mehadia'], Cost:299\n",
      "[(239, 'Fagaras', ['Arad', 'Sibiu', 'Fagaras']), (299, 'Mehadia', ['Arad', 'Timisoara', 'Lugoj', 'Mehadia']), (291, 'Oradea', ['Arad', 'Sibiu', 'Oradea']), (366, 'Craiova', ['Arad', 'Sibiu', 'Rimnicu', 'Craiova']), (317, 'Pitesti', ['Arad', 'Sibiu', 'Rimnicu', 'Pitesti'])]\n",
      "\n",
      "Fagaras selected. Cost: 239\n",
      "Fagaras expanding...\n",
      "Fagaras->Bucharest, Path: ['Arad', 'Sibiu', 'Fagaras', 'Bucharest'], Cost:450\n",
      "[(291, 'Oradea', ['Arad', 'Sibiu', 'Oradea']), (299, 'Mehadia', ['Arad', 'Timisoara', 'Lugoj', 'Mehadia']), (317, 'Pitesti', ['Arad', 'Sibiu', 'Rimnicu', 'Pitesti']), (366, 'Craiova', ['Arad', 'Sibiu', 'Rimnicu', 'Craiova']), (450, 'Bucharest', ['Arad', 'Sibiu', 'Fagaras', 'Bucharest'])]\n",
      "\n",
      "Oradea selected. Cost: 291\n",
      "Oradea expanding...\n",
      "[(299, 'Mehadia', ['Arad', 'Timisoara', 'Lugoj', 'Mehadia']), (366, 'Craiova', ['Arad', 'Sibiu', 'Rimnicu', 'Craiova']), (317, 'Pitesti', ['Arad', 'Sibiu', 'Rimnicu', 'Pitesti']), (450, 'Bucharest', ['Arad', 'Sibiu', 'Fagaras', 'Bucharest'])]\n",
      "\n",
      "Mehadia selected. Cost: 299\n",
      "Mehadia expanding...\n",
      "Mehadia->Drobeta, Path: ['Arad', 'Timisoara', 'Lugoj', 'Mehadia', 'Drobeta'], Cost:374\n",
      "[(317, 'Pitesti', ['Arad', 'Sibiu', 'Rimnicu', 'Pitesti']), (366, 'Craiova', ['Arad', 'Sibiu', 'Rimnicu', 'Craiova']), (450, 'Bucharest', ['Arad', 'Sibiu', 'Fagaras', 'Bucharest']), (374, 'Drobeta', ['Arad', 'Timisoara', 'Lugoj', 'Mehadia', 'Drobeta'])]\n",
      "\n",
      "Pitesti selected. Cost: 317\n",
      "Pitesti expanding...\n",
      "Pitesti->Craiova, Path: ['Arad', 'Sibiu', 'Rimnicu', 'Pitesti', 'Craiova'], Cost:455\n",
      "Pitesti->Bucharest, Path: ['Arad', 'Sibiu', 'Rimnicu', 'Pitesti', 'Bucharest'], Cost:418\n",
      "[(366, 'Craiova', ['Arad', 'Sibiu', 'Rimnicu', 'Craiova']), (374, 'Drobeta', ['Arad', 'Timisoara', 'Lugoj', 'Mehadia', 'Drobeta']), (450, 'Bucharest', ['Arad', 'Sibiu', 'Fagaras', 'Bucharest']), (455, 'Craiova', ['Arad', 'Sibiu', 'Rimnicu', 'Pitesti', 'Craiova']), (418, 'Bucharest', ['Arad', 'Sibiu', 'Rimnicu', 'Pitesti', 'Bucharest'])]\n",
      "\n",
      "Craiova selected. Cost: 366\n",
      "Craiova expanding...\n",
      "Craiova->Drobeta, Path: ['Arad', 'Sibiu', 'Rimnicu', 'Craiova', 'Drobeta'], Cost:486\n",
      "[(374, 'Drobeta', ['Arad', 'Timisoara', 'Lugoj', 'Mehadia', 'Drobeta']), (418, 'Bucharest', ['Arad', 'Sibiu', 'Rimnicu', 'Pitesti', 'Bucharest']), (450, 'Bucharest', ['Arad', 'Sibiu', 'Fagaras', 'Bucharest']), (455, 'Craiova', ['Arad', 'Sibiu', 'Rimnicu', 'Pitesti', 'Craiova']), (486, 'Drobeta', ['Arad', 'Sibiu', 'Rimnicu', 'Craiova', 'Drobeta'])]\n",
      "\n",
      "Drobeta selected. Cost: 374\n",
      "Drobeta expanding...\n",
      "[(418, 'Bucharest', ['Arad', 'Sibiu', 'Rimnicu', 'Pitesti', 'Bucharest']), (455, 'Craiova', ['Arad', 'Sibiu', 'Rimnicu', 'Pitesti', 'Craiova']), (450, 'Bucharest', ['Arad', 'Sibiu', 'Fagaras', 'Bucharest']), (486, 'Drobeta', ['Arad', 'Sibiu', 'Rimnicu', 'Craiova', 'Drobeta'])]\n",
      "\n",
      "Bucharest selected. Cost: 418\n",
      "*** GOAL TEST SATISFIED ***\n",
      "\n"
     ]
    },
    {
     "data": {
      "text/plain": [
       "(418, 'Bucharest', ['Arad', 'Sibiu', 'Rimnicu', 'Pitesti', 'Bucharest'])"
      ]
     },
     "execution_count": 31,
     "metadata": {},
     "output_type": "execute_result"
    }
   ],
   "source": [
    "ucs('Arad', 'Bucharest') # change source and destination"
   ]
  },
  {
   "cell_type": "code",
   "execution_count": null,
   "metadata": {
    "id": "0mgZy0qRluY1"
   },
   "outputs": [],
   "source": [
    "# insert simulation of the ouput"
   ]
  },
  {
   "cell_type": "markdown",
   "metadata": {
    "id": "fKD43fSqluY2"
   },
   "source": [
    "# Greedy Best First Search"
   ]
  },
  {
   "cell_type": "code",
   "execution_count": null,
   "metadata": {
    "id": "Y355atJ_luY3"
   },
   "outputs": [],
   "source": [
    "# SLD heuristic for the destination (Bucharest)\n",
    "h = {'Arad': 366,'Zerind':  374,'Oradea': 380,'Sibiu': 253,\n",
    "    'Timisoara': 329,'Lugoj': 244,'Mehadia': 241,'Drobeta': 242,\n",
    "    'Craiova': 160,'Rimnicu': 193,'Fagaras': 176,'Pitesti': 100,\n",
    "    'Bucharest': 0,'Giurgiu': 77,'Urziceni': 80,'Hirsova': 151,\n",
    "    'Eforie': 161,'Vaslui': 199,'Iasi': 226,'Neamt': 234\n",
    "} "
   ]
  },
  {
   "cell_type": "code",
   "execution_count": null,
   "metadata": {
    "_cell_guid": "b1076dfc-b9ad-4769-8c92-a6c4dae69d19",
    "_uuid": "8f2839f25d086af736a60e9eeb907d3b93b6e0e5",
    "id": "h-1PIbWaluY4"
   },
   "outputs": [],
   "source": [
    "from queue import PriorityQueue\n",
    "\n",
    "def gbfs(snode, dnode):\n",
    "    expanded = [] # to store expanded nodes\n",
    "    frontier = PriorityQueue()\n",
    "\n",
    "    snode = (h[snode],snode,[snode],0) # (h, city, path, path cost)\n",
    "    frontier.put(snode)\n",
    "\n",
    "    while not frontier.empty():\n",
    "        node = frontier.get() \n",
    "        u = node[1]\n",
    "        \n",
    "        if u== dnode:#Goal Test            \n",
    "            print(node)\n",
    "            print(expanded)\n",
    "            return node #path\n",
    "        expanded.append(u)\n",
    "        for v in rmap[u].keys():            \n",
    "            if v not in expanded:\n",
    "                g = node[3] + rmap[u][v]\n",
    "                path = node[2]+[v]\n",
    "                frontier.put((h[v],v,path, g))   \n",
    "    print('Failed')"
   ]
  },
  {
   "cell_type": "code",
   "execution_count": null,
   "metadata": {
    "id": "39lB5KBmluY6",
    "outputId": "9662aebf-5aed-46de-f00c-19f732e3098e"
   },
   "outputs": [
    {
     "name": "stdout",
     "output_type": "stream",
     "text": [
      "(0, 'Bucharest', ['Arad', 'Sibiu', 'Fagaras', 'Bucharest'], 450)\n",
      "['Arad', 'Sibiu', 'Fagaras']\n"
     ]
    },
    {
     "data": {
      "text/plain": [
       "['Arad', 'Sibiu', 'Fagaras', 'Bucharest']"
      ]
     },
     "execution_count": 8,
     "metadata": {},
     "output_type": "execute_result"
    }
   ],
   "source": [
    "gbfs('Arad', 'Bucharest') # change source only"
   ]
  },
  {
   "cell_type": "code",
   "execution_count": null,
   "metadata": {
    "id": "E5uVkp26luY7"
   },
   "outputs": [],
   "source": [
    "# insert simulation of the ouput"
   ]
  },
  {
   "cell_type": "markdown",
   "metadata": {
    "id": "dDpUIOyWluY8"
   },
   "source": [
    "# A*"
   ]
  },
  {
   "cell_type": "code",
   "execution_count": 4,
   "metadata": {
    "id": "ddEDeRqPluY8"
   },
   "outputs": [
    {
     "name": "stdout",
     "output_type": "stream",
     "text": [
      "['Arad', 'Timisoara', 'Lugoj', 'Mehadia', 'Drobeta', 'Craiova', 'Rimnicu', 'Pitesti', 'Bucharest'] 838\n",
      "['Arad', 'Timisoara', 'Lugoj', 'Mehadia', 'Drobeta', 'Craiova', 'Rimnicu', 'Sibiu', 'Fagaras', 'Bucharest'] 1030\n",
      "['Arad', 'Timisoara', 'Lugoj', 'Mehadia', 'Drobeta', 'Craiova', 'Pitesti', 'Bucharest'] 733\n",
      "['Arad', 'Timisoara', 'Lugoj', 'Mehadia', 'Drobeta', 'Craiova', 'Pitesti', 'Rimnicu', 'Sibiu', 'Fagaras', 'Bucharest'] 1119\n",
      "['Arad', 'Zerind', 'Oradea', 'Sibiu', 'Rimnicu', 'Pitesti', 'Bucharest'] 575\n",
      "['Arad', 'Zerind', 'Oradea', 'Sibiu', 'Rimnicu', 'Craiova', 'Pitesti', 'Bucharest'] 762\n",
      "['Arad', 'Zerind', 'Oradea', 'Sibiu', 'Fagaras', 'Bucharest'] 607\n",
      "['Arad', 'Sibiu', 'Rimnicu', 'Pitesti', 'Bucharest'] 418\n",
      "['Arad', 'Sibiu', 'Rimnicu', 'Craiova', 'Pitesti', 'Bucharest'] 605\n",
      "['Arad', 'Sibiu', 'Fagaras', 'Bucharest'] 450\n"
     ]
    }
   ],
   "source": [
    "rmap = {\n",
    "    'Arad': {'Sibiu':140, 'Zerind':75, 'Timisoara':118},\n",
    "    'Zerind': {'Arad':75, 'Oradea':71},\n",
    "    'Oradea': {'Zerind':71, 'Sibiu': 151},\n",
    "    'Sibiu': {'Arad':140, 'Oradea':151, 'Fagaras':99, 'Rimnicu':80},\n",
    "    'Timisoara': {'Arad': 118, 'Lugoj':111},\n",
    "    'Lugoj': {'Timisoara':111, 'Mehadia':70},\n",
    "    'Mehadia': {'Lugoj': 70, 'Drobeta':75},\n",
    "    'Drobeta': {'Mehadia':75, 'Craiova':120},\n",
    "    'Craiova': {'Drobeta': 120, 'Rimnicu': 146, 'Pitesti': 138},\n",
    "    'Rimnicu': {'Sibiu': 80, 'Craiova': 146, 'Pitesti': 97},\n",
    "    'Fagaras': {'Sibiu':99, 'Bucharest':211},\n",
    "    'Pitesti': {'Rimnicu': 97, 'Craiova':138, 'Bucharest':101},\n",
    "    'Bucharest': {'Fagaras':211, 'Pitesti': 101, 'Giurgiu':90, 'Urziceni':85},\n",
    "    'Giurgiu': {'Bucharest': 90},\n",
    "    'Urziceni': {'Bucharest': 85, 'Vaslui':142, 'Hirsova':98},\n",
    "    'Hirsova': {'Urziceni':98, 'Eforie':86},\n",
    "    'Eforie': {'Hirsova':86},\n",
    "    'Vaslui': {'Iasi': 92, 'Urziceni':142},\n",
    "    'Iasi': {'Vaslui':92, 'Neamt': 87},\n",
    "    'Neamt': {'Iasi':87}\n",
    "}\n",
    "\n",
    "from queue import PriorityQueue\n",
    "def paths(rmap, start, end):  # Function to find paths\n",
    "    stack = [(start, [start])]        # stack\n",
    "    while stack:\n",
    "        (i, path) = stack.pop()\n",
    "        for next in set(rmap[i]) - set(path):\n",
    "            if next == end:\n",
    "                yield path + [next]\n",
    "            else:\n",
    "                stack.append((next, path + [next]))\n",
    "\n",
    "def weights(rap, path):  # Function to find weights\n",
    "    value = 0\n",
    "    node = rmap[path[0]]\n",
    "    for item in path[1:]:\n",
    "        value += node[item]\n",
    "        node = rmap[item] \n",
    "    return value\n",
    "\n",
    "\n",
    "for path in paths(rmap, 'Arad', 'Bucharest'): \n",
    "    print(path, weights(rmap, path))"
   ]
  },
  {
   "cell_type": "code",
   "execution_count": null,
   "metadata": {
    "id": "usP2NEKfluY9"
   },
   "outputs": [],
   "source": [
    "# insert simulation of the ouput (destination: Bucharest)"
   ]
  }
 ],
 "metadata": {
  "colab": {
   "collapsed_sections": [],
   "name": "Week 05 (UCS, GBF, Astar).ipynb",
   "provenance": []
  },
  "kernelspec": {
   "display_name": "Python 3 (ipykernel)",
   "language": "python",
   "name": "python3"
  },
  "language_info": {
   "codemirror_mode": {
    "name": "ipython",
    "version": 3
   },
   "file_extension": ".py",
   "mimetype": "text/x-python",
   "name": "python",
   "nbconvert_exporter": "python",
   "pygments_lexer": "ipython3",
   "version": "3.9.7"
  }
 },
 "nbformat": 4,
 "nbformat_minor": 1
}
